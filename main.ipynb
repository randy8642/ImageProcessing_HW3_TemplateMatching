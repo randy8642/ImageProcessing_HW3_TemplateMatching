{
 "cells": [
  {
   "cell_type": "code",
   "execution_count": 1,
   "metadata": {},
   "outputs": [],
   "source": [
    "import cv2\n",
    "import numpy as np\n",
    "import time\n",
    "import os\n",
    "import matplotlib.pyplot as plt\n",
    "import itertools"
   ]
  },
  {
   "cell_type": "code",
   "execution_count": null,
   "metadata": {},
   "outputs": [],
   "source": [
    "img = cv2.imread('./source/100-1.jpg')\n",
    "template = cv2.imread('./template/100-Template.jpg')"
   ]
  },
  {
   "cell_type": "code",
   "execution_count": null,
   "metadata": {},
   "outputs": [],
   "source": [
    "plt.figure(figsize=(10, 10))\n",
    "plt.imshow(img)"
   ]
  },
  {
   "cell_type": "code",
   "execution_count": null,
   "metadata": {},
   "outputs": [],
   "source": [
    "plt.figure(figsize=(10, 10))\n",
    "plt.imshow(template)"
   ]
  },
  {
   "cell_type": "code",
   "execution_count": null,
   "metadata": {},
   "outputs": [],
   "source": [
    "ii = cv2.adaptiveThreshold(template, 255, cv2.ADAPTIVE_THRESH_MEAN_C, cv2.THRESH_BINARY, 151, 2)\n",
    "plt.imshow(ii)"
   ]
  },
  {
   "cell_type": "code",
   "execution_count": null,
   "metadata": {},
   "outputs": [],
   "source": [
    "def conv(x, y):\n",
    "    # pad\n",
    "    pad = np.array(y.shape) // 2\n",
    "    padded_x = np.ones([x.shape[0] + pad[0]*2, x.shape[1] + pad[1]*2]) * 0\n",
    "    padded_x[pad[0]:-pad[0], pad[1]:-pad[1]] = x\n",
    "    \n",
    "    # conv windows\n",
    "    view_shape = tuple(np.subtract(padded_x.shape, y.shape) + 1) + y.shape\n",
    "    strides = padded_x.strides + padded_x.strides\n",
    "    sub_matrices = np.lib.stride_tricks.as_strided(padded_x, view_shape, strides)\n",
    "\n",
    "    # einsum method\n",
    "    y = np.flipud(np.fliplr(y))\n",
    "\n",
    "    m = np.einsum('ij,klij->kl', y, sub_matrices)\n",
    "\n",
    "    return m\n",
    "\n",
    "def CrossCorrelation(x, y):\n",
    "    # pad\n",
    "    pad = np.array(y.shape) // 2\n",
    "    padded_x = np.ones([x.shape[0] + pad[0]*2, x.shape[1] + pad[1]*2]) * 0\n",
    "    padded_x[pad[0]:-pad[0], pad[1]:-pad[1]] = x\n",
    "    \n",
    "    # conv windows\n",
    "    view_shape = tuple(np.subtract(padded_x.shape, y.shape) + 1) + y.shape\n",
    "    strides = padded_x.strides + padded_x.strides\n",
    "    sub_matrices = np.lib.stride_tricks.as_strided(padded_x, view_shape, strides)\n",
    "\n",
    "    # einsum method\n",
    "    m = np.einsum('ij,klij->kl', y, sub_matrices)\n",
    "\n",
    "    return m"
   ]
  },
  {
   "cell_type": "code",
   "execution_count": null,
   "metadata": {},
   "outputs": [],
   "source": [
    "img = img[:, :, 2]*0.299 + img[:, :, 1]*0.587 + img[:, :, 0]*0.114\n",
    "img = img.astype(np.uint8)\n",
    "\n",
    "template = template[:, :, 2]*0.299 + template[:, :, 1]*0.587 + template[:, :, 0]*0.114\n",
    "template = template.astype(np.uint8)"
   ]
  },
  {
   "cell_type": "code",
   "execution_count": null,
   "metadata": {},
   "outputs": [],
   "source": [
    "# openCV\n",
    "res = cv2.matchTemplate(img, template, cv2.TM_CCOEFF_NORMED)\n",
    "\n",
    "plt.figure(figsize=(10, 10))\n",
    "plt.imshow(res)"
   ]
  },
  {
   "cell_type": "code",
   "execution_count": null,
   "metadata": {},
   "outputs": [],
   "source": [
    "res = cv2.matchShapes(img, template, cv2.CONTOURS_MATCH_I1, 0.0)\n",
    "\n",
    "print(res)"
   ]
  },
  {
   "cell_type": "code",
   "execution_count": null,
   "metadata": {},
   "outputs": [],
   "source": [
    "sobel_x = [[1, 0, -1],\n",
    "           [2, 0, -2],\n",
    "           [1, 0, -1]]\n",
    "\n",
    "sobel_y = [[1, 2, 1],\n",
    "           [0, 0, 0],\n",
    "           [-1, -2, -1]]\n",
    "\n",
    "sobel_x = np.array(sobel_x)\n",
    "sobel_y = np.array(sobel_y)"
   ]
  },
  {
   "cell_type": "code",
   "execution_count": null,
   "metadata": {},
   "outputs": [],
   "source": [
    "Ix = conv(img, sobel_x)\n",
    "Iy = conv(img, sobel_y)"
   ]
  },
  {
   "cell_type": "code",
   "execution_count": null,
   "metadata": {},
   "outputs": [],
   "source": [
    "fig, ax = plt.subplots(1, 2, figsize=(20, 10))\n",
    "ax[0].imshow(Ix)\n",
    "ax[1].imshow(Iy)"
   ]
  },
  {
   "cell_type": "code",
   "execution_count": null,
   "metadata": {},
   "outputs": [],
   "source": [
    "window_size = 15\n",
    "\n",
    "window = np.ones([window_size, window_size])"
   ]
  },
  {
   "cell_type": "code",
   "execution_count": null,
   "metadata": {},
   "outputs": [],
   "source": [
    "pad = np.array(window.shape) // 2\n",
    "padded_x = np.ones([Ix.shape[0] + pad[0]*2, Ix.shape[1] + pad[1]*2]) * 0\n",
    "padded_x[pad[0]:-pad[0], pad[1]:-pad[1]] = Ix\n",
    "\n",
    "view_shape = tuple(np.subtract(padded_x.shape, window.shape) + 1) + window.shape\n",
    "strides = padded_x.strides + padded_x.strides\n",
    "sub_matrices_Ix = np.lib.stride_tricks.as_strided(padded_x, view_shape, strides)"
   ]
  },
  {
   "cell_type": "code",
   "execution_count": null,
   "metadata": {},
   "outputs": [],
   "source": [
    "# padad = np.array(window.shape) // 2\n",
    "padded_x = np.ones([Iy.shape[0] + pad[0]*2, Iy.shape[1] + pad[1]*2]) * 0\n",
    "padded_x[pad[0]:-pad[0], pad[1]:-pad[1]] = Iy\n",
    "\n",
    "view_shape = tuple(np.subtract(padded_x.shape, window.shape) + 1) + window.shape\n",
    "strides = padded_x.strides + padded_x.strides\n",
    "sub_matrices_Iy = np.lib.stride_tricks.as_strided(padded_x, view_shape, strides)"
   ]
  },
  {
   "cell_type": "code",
   "execution_count": null,
   "metadata": {},
   "outputs": [],
   "source": [
    "def get_guassKernal(l=5, sig=1.) -> np.ndarray:\n",
    "    \"\"\"\\\n",
    "    creates gaussian kernel with side length `l` and a sigma of `sig`\n",
    "    \"\"\"\n",
    "    ax = np.linspace(-(l - 1) / 2., (l - 1) / 2., l)\n",
    "    gauss = np.exp(-0.5 * np.square(ax) / np.square(sig))\n",
    "    kernel = np.outer(gauss, gauss)\n",
    "    return kernel / np.sum(kernel)"
   ]
  },
  {
   "cell_type": "code",
   "execution_count": null,
   "metadata": {},
   "outputs": [],
   "source": [
    "sigma = 0.3 * ((window_size - 1) * 0.5 - 1) + 0.8\n",
    "guass_kernal = get_guassKernal(l=window_size, sig=sigma)"
   ]
  },
  {
   "cell_type": "code",
   "execution_count": null,
   "metadata": {},
   "outputs": [],
   "source": [
    "M = np.zeros([*img.shape, 2, 2])\n",
    "\n",
    "M[:, :, 0, 0] = np.einsum('klij,klij,ij->kl', sub_matrices_Ix, sub_matrices_Ix, guass_kernal)\n",
    "M[:, :, 0, 1] = np.einsum('klij,klij,ij->kl', sub_matrices_Ix, sub_matrices_Iy, guass_kernal)\n",
    "M[:, :, 1, 0] = np.einsum('klij,klij,ij->kl', sub_matrices_Ix, sub_matrices_Iy, guass_kernal)\n",
    "M[:, :, 1, 1] = np.einsum('klij,klij,ij->kl', sub_matrices_Iy, sub_matrices_Iy, guass_kernal)"
   ]
  },
  {
   "cell_type": "code",
   "execution_count": null,
   "metadata": {},
   "outputs": [],
   "source": [
    "E = np.zeros([*img.shape, 2])\n",
    "E[:, :], _ = np.linalg.eig(M)"
   ]
  },
  {
   "cell_type": "code",
   "execution_count": null,
   "metadata": {},
   "outputs": [],
   "source": [
    "traceM = E[:, :, 0] + E[:, :, 1]\n",
    "detM = E[:, :, 0] * E[:, :, 1]\n",
    "k = 0.04\n",
    "R = detM - k * traceM ** 2"
   ]
  },
  {
   "cell_type": "code",
   "execution_count": null,
   "metadata": {},
   "outputs": [],
   "source": [
    "plt.figure(figsize=(15, 15))\n",
    "plt.imshow(R)"
   ]
  }
 ],
 "metadata": {
  "interpreter": {
   "hash": "9f08e2dabe29319d8f8780b92c9598d38a942f7150de35fc2f2beb12a230baa3"
  },
  "kernelspec": {
   "display_name": "Python 3.9.2 64-bit ('ImageProcessing_HW3_TemplateMatching-qEj-AplR': pipenv)",
   "language": "python",
   "name": "python3"
  },
  "language_info": {
   "codemirror_mode": {
    "name": "ipython",
    "version": 3
   },
   "file_extension": ".py",
   "mimetype": "text/x-python",
   "name": "python",
   "nbconvert_exporter": "python",
   "pygments_lexer": "ipython3",
   "version": "3.9.4"
  },
  "orig_nbformat": 4
 },
 "nbformat": 4,
 "nbformat_minor": 2
}
